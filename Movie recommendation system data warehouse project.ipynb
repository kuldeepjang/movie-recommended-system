{
 "cells": [
  {
   "cell_type": "code",
   "execution_count": 1,
   "id": "11a5caad",
   "metadata": {},
   "outputs": [],
   "source": [
    "import pandas as pd\n",
    "import sqlite3"
   ]
  },
  {
   "cell_type": "code",
   "execution_count": 2,
   "id": "70b78828",
   "metadata": {},
   "outputs": [],
   "source": [
    "# Step 1: Data Preprocessing\n",
    "# Load the MovieLens dataset (assuming you have downloaded and extracted it)\n",
    "movies = pd.read_csv('movies.csv')\n",
    "ratings = pd.read_csv('ratings.csv')"
   ]
  },
  {
   "cell_type": "code",
   "execution_count": 3,
   "id": "1c218590",
   "metadata": {},
   "outputs": [],
   "source": [
    "movies.drop(['genres'], axis=1, inplace=True)"
   ]
  },
  {
   "cell_type": "code",
   "execution_count": null,
   "id": "fcfd6cd0",
   "metadata": {},
   "outputs": [],
   "source": [
    "# Step 2: Data Warehouse Creation\n",
    "# Create a SQLite database\n",
    "conn = sqlite3.connect('movielens.db')"
   ]
  },
  {
   "cell_type": "code",
   "execution_count": null,
   "id": "63717b71",
   "metadata": {},
   "outputs": [],
   "source": [
    "# Load data into the database\n",
    "movies.to_sql('movies', conn, if_exists='replace', index=False)\n",
    "ratings.to_sql('ratings', conn, if_exists='replace', index=False)"
   ]
  },
  {
   "cell_type": "code",
   "execution_count": null,
   "id": "f33e05d4",
   "metadata": {},
   "outputs": [],
   "source": [
    "# Step 3: Model Training\n",
    "# Retrieve data from the database\n",
    "query = '''\n",
    "SELECT ratings.userId, ratings.movieId, ratings.rating, movies.title\n",
    "FROM ratings\n",
    "JOIN movies ON ratings.movieId = movies.movieId\n",
    "'''"
   ]
  },
  {
   "cell_type": "code",
   "execution_count": null,
   "id": "5a9ef79d",
   "metadata": {},
   "outputs": [],
   "source": [
    "data = pd.read_sql_query(query, conn)"
   ]
  },
  {
   "cell_type": "code",
   "execution_count": null,
   "id": "5b05a120",
   "metadata": {},
   "outputs": [],
   "source": [
    "# Split data into training and testing sets\n",
    "train_data = data.sample(frac=0.8, random_state=42)\n",
    "test_data = data.drop(train_data.index)"
   ]
  },
  {
   "cell_type": "code",
   "execution_count": null,
   "id": "cbc67cc6",
   "metadata": {},
   "outputs": [],
   "source": [
    "# Implement collaborative filtering recommendation model (e.g., user-based collaborative filtering)\n",
    "pivot_table = train_data.pivot_table(index='userId', columns='title', values='rating')"
   ]
  },
  {
   "cell_type": "code",
   "execution_count": null,
   "id": "7a0372b7",
   "metadata": {},
   "outputs": [],
   "source": [
    "def recommend_movies(user_id):\n",
    "    user_ratings = pivot_table.loc[user_id].dropna()\n",
    "    similar_users = pivot_table.corrwith(user_ratings)\n",
    "    similar_users = similar_users.dropna()\n",
    "    \n",
    "    similar_movies = pivot_table.loc[similar_users.index].dropna(axis=1)\n",
    "    similar_movies = similar_movies.mean().sort_values(ascending=False)\n",
    "    \n",
    "    recommended_movies = similar_movies[~similar_movies.index.isin(user_ratings.index)]\n",
    "    return recommended_movies.head(5)"
   ]
  },
  {
   "cell_type": "code",
   "execution_count": null,
   "id": "e87b84d9",
   "metadata": {},
   "outputs": [],
   "source": [
    "# Step 4: Recommendation Generation\n",
    "user_id = 1  # User for whom we want to generate recommendations\n",
    "recommendations = recommend_movies(user_id)"
   ]
  },
  {
   "cell_type": "code",
   "execution_count": null,
   "id": "05172818",
   "metadata": {},
   "outputs": [],
   "source": [
    "# Display the recommendations\n",
    "print(f\"Recommendations for User {user_id}:\")\n",
    "for title, rating in recommendations.items():\n",
    "    print(f\"{title}: {rating:.2f}\")"
   ]
  },
  {
   "cell_type": "code",
   "execution_count": null,
   "id": "da1e84ae",
   "metadata": {},
   "outputs": [],
   "source": [
    "# Close the database connection\n",
    "conn.close()"
   ]
  }
 ],
 "metadata": {
  "kernelspec": {
   "display_name": "Python 3 (ipykernel)",
   "language": "python",
   "name": "python3"
  },
  "language_info": {
   "codemirror_mode": {
    "name": "ipython",
    "version": 3
   },
   "file_extension": ".py",
   "mimetype": "text/x-python",
   "name": "python",
   "nbconvert_exporter": "python",
   "pygments_lexer": "ipython3",
   "version": "3.10.9"
  }
 },
 "nbformat": 4,
 "nbformat_minor": 5
}
